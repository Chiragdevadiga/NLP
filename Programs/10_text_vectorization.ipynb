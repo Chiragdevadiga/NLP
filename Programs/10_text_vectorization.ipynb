{
 "cells": [
  {
   "cell_type": "code",
   "execution_count": 12,
   "id": "28764815-f207-4c03-88e2-a11ab79c9885",
   "metadata": {},
   "outputs": [
    {
     "name": "stdout",
     "output_type": "stream",
     "text": [
      "['Rakesh likes to play cricket', 'Arun like to dance', 'Arun likes to play football or cricket', 'Deepak  likes to play kabaddi']\n"
     ]
    }
   ],
   "source": [
    "msg=[\"Rakesh likes to play cricket\",\"Arun like to dance\", \"Arun likes to play football or cricket\", \"Deepak  likes to play kabaddi\"]\n",
    "print(msg)"
   ]
  },
  {
   "cell_type": "code",
   "execution_count": 13,
   "id": "82a511bb-e907-4c7a-891e-fd5e08cf50be",
   "metadata": {},
   "outputs": [],
   "source": [
    "from sklearn.feature_extraction.text import CountVectorizer,TfidfVectorizer"
   ]
  },
  {
   "cell_type": "code",
   "execution_count": 14,
   "id": "a95f42c8-f4c6-4f7a-909f-38a41b48bd8e",
   "metadata": {},
   "outputs": [
    {
     "data": {
      "text/plain": [
       "array([[0, 1, 0, 0, 0, 0, 0, 1, 0, 1, 1, 1],\n",
       "       [1, 0, 1, 0, 0, 0, 1, 0, 0, 0, 0, 1],\n",
       "       [1, 1, 0, 0, 1, 0, 0, 1, 1, 1, 0, 1],\n",
       "       [0, 0, 0, 1, 0, 1, 0, 1, 0, 1, 0, 1]], dtype=int64)"
      ]
     },
     "execution_count": 14,
     "metadata": {},
     "output_type": "execute_result"
    }
   ],
   "source": [
    "vec=CountVectorizer()\n",
    "\n",
    "bag=vec.fit_transform(msg).toarray()\n",
    "bag"
   ]
  },
  {
   "cell_type": "code",
   "execution_count": 15,
   "id": "667dafea-0504-46e9-8b40-20d7f44b24dc",
   "metadata": {},
   "outputs": [
    {
     "name": "stdout",
     "output_type": "stream",
     "text": [
      "['arun' 'cricket' 'dance' 'deepak' 'football' 'kabaddi' 'like' 'likes'\n",
      " 'or' 'play' 'rakesh' 'to']\n"
     ]
    }
   ],
   "source": [
    "print(vec.get_feature_names_out())"
   ]
  },
  {
   "cell_type": "code",
   "execution_count": 16,
   "id": "62526b4b-a948-4fe3-9f5b-38cda2084b4e",
   "metadata": {},
   "outputs": [
    {
     "data": {
      "text/html": [
       "<div>\n",
       "<style scoped>\n",
       "    .dataframe tbody tr th:only-of-type {\n",
       "        vertical-align: middle;\n",
       "    }\n",
       "\n",
       "    .dataframe tbody tr th {\n",
       "        vertical-align: top;\n",
       "    }\n",
       "\n",
       "    .dataframe thead tr th {\n",
       "        text-align: left;\n",
       "    }\n",
       "</style>\n",
       "<table border=\"1\" class=\"dataframe\">\n",
       "  <thead>\n",
       "    <tr>\n",
       "      <th></th>\n",
       "      <th>arun</th>\n",
       "      <th>cricket</th>\n",
       "      <th>dance</th>\n",
       "      <th>deepak</th>\n",
       "      <th>football</th>\n",
       "      <th>kabaddi</th>\n",
       "      <th>like</th>\n",
       "      <th>likes</th>\n",
       "      <th>or</th>\n",
       "      <th>play</th>\n",
       "      <th>rakesh</th>\n",
       "      <th>to</th>\n",
       "    </tr>\n",
       "  </thead>\n",
       "  <tbody>\n",
       "    <tr>\n",
       "      <th>0</th>\n",
       "      <td>0</td>\n",
       "      <td>1</td>\n",
       "      <td>0</td>\n",
       "      <td>0</td>\n",
       "      <td>0</td>\n",
       "      <td>0</td>\n",
       "      <td>0</td>\n",
       "      <td>1</td>\n",
       "      <td>0</td>\n",
       "      <td>1</td>\n",
       "      <td>1</td>\n",
       "      <td>1</td>\n",
       "    </tr>\n",
       "    <tr>\n",
       "      <th>1</th>\n",
       "      <td>1</td>\n",
       "      <td>0</td>\n",
       "      <td>1</td>\n",
       "      <td>0</td>\n",
       "      <td>0</td>\n",
       "      <td>0</td>\n",
       "      <td>1</td>\n",
       "      <td>0</td>\n",
       "      <td>0</td>\n",
       "      <td>0</td>\n",
       "      <td>0</td>\n",
       "      <td>1</td>\n",
       "    </tr>\n",
       "    <tr>\n",
       "      <th>2</th>\n",
       "      <td>1</td>\n",
       "      <td>1</td>\n",
       "      <td>0</td>\n",
       "      <td>0</td>\n",
       "      <td>1</td>\n",
       "      <td>0</td>\n",
       "      <td>0</td>\n",
       "      <td>1</td>\n",
       "      <td>1</td>\n",
       "      <td>1</td>\n",
       "      <td>0</td>\n",
       "      <td>1</td>\n",
       "    </tr>\n",
       "    <tr>\n",
       "      <th>3</th>\n",
       "      <td>0</td>\n",
       "      <td>0</td>\n",
       "      <td>0</td>\n",
       "      <td>1</td>\n",
       "      <td>0</td>\n",
       "      <td>1</td>\n",
       "      <td>0</td>\n",
       "      <td>1</td>\n",
       "      <td>0</td>\n",
       "      <td>1</td>\n",
       "      <td>0</td>\n",
       "      <td>1</td>\n",
       "    </tr>\n",
       "  </tbody>\n",
       "</table>\n",
       "</div>"
      ],
      "text/plain": [
       "  arun cricket dance deepak football kabaddi like likes or play rakesh to\n",
       "0    0       1     0      0        0       0    0     1  0    1      1  1\n",
       "1    1       0     1      0        0       0    1     0  0    0      0  1\n",
       "2    1       1     0      0        1       0    0     1  1    1      0  1\n",
       "3    0       0     0      1        0       1    0     1  0    1      0  1"
      ]
     },
     "execution_count": 16,
     "metadata": {},
     "output_type": "execute_result"
    }
   ],
   "source": [
    "import pandas as pd\n",
    "df=pd.DataFrame(bag,columns=[vec.get_feature_names_out()])\n",
    "df"
   ]
  },
  {
   "cell_type": "code",
   "execution_count": 18,
   "id": "639436fc-2fda-4ed6-98c0-795ddd7d4f6d",
   "metadata": {},
   "outputs": [
    {
     "data": {
      "text/html": [
       "<div>\n",
       "<style scoped>\n",
       "    .dataframe tbody tr th:only-of-type {\n",
       "        vertical-align: middle;\n",
       "    }\n",
       "\n",
       "    .dataframe tbody tr th {\n",
       "        vertical-align: top;\n",
       "    }\n",
       "\n",
       "    .dataframe thead th {\n",
       "        text-align: right;\n",
       "    }\n",
       "</style>\n",
       "<table border=\"1\" class=\"dataframe\">\n",
       "  <thead>\n",
       "    <tr style=\"text-align: right;\">\n",
       "      <th></th>\n",
       "      <th>arun</th>\n",
       "      <th>cricket</th>\n",
       "      <th>dance</th>\n",
       "      <th>deepak</th>\n",
       "      <th>football</th>\n",
       "      <th>kabaddi</th>\n",
       "      <th>like</th>\n",
       "      <th>likes</th>\n",
       "      <th>or</th>\n",
       "      <th>play</th>\n",
       "      <th>rakesh</th>\n",
       "      <th>to</th>\n",
       "    </tr>\n",
       "  </thead>\n",
       "  <tbody>\n",
       "    <tr>\n",
       "      <th>0</th>\n",
       "      <td>0.000000</td>\n",
       "      <td>0.479038</td>\n",
       "      <td>0.000000</td>\n",
       "      <td>0.000000</td>\n",
       "      <td>0.000000</td>\n",
       "      <td>0.000000</td>\n",
       "      <td>0.000000</td>\n",
       "      <td>0.387823</td>\n",
       "      <td>0.000000</td>\n",
       "      <td>0.387823</td>\n",
       "      <td>0.607599</td>\n",
       "      <td>0.317070</td>\n",
       "    </tr>\n",
       "    <tr>\n",
       "      <th>1</th>\n",
       "      <td>0.463458</td>\n",
       "      <td>0.000000</td>\n",
       "      <td>0.587838</td>\n",
       "      <td>0.000000</td>\n",
       "      <td>0.000000</td>\n",
       "      <td>0.000000</td>\n",
       "      <td>0.587838</td>\n",
       "      <td>0.000000</td>\n",
       "      <td>0.000000</td>\n",
       "      <td>0.000000</td>\n",
       "      <td>0.000000</td>\n",
       "      <td>0.306758</td>\n",
       "    </tr>\n",
       "    <tr>\n",
       "      <th>2</th>\n",
       "      <td>0.378872</td>\n",
       "      <td>0.378872</td>\n",
       "      <td>0.000000</td>\n",
       "      <td>0.000000</td>\n",
       "      <td>0.480551</td>\n",
       "      <td>0.000000</td>\n",
       "      <td>0.000000</td>\n",
       "      <td>0.306730</td>\n",
       "      <td>0.480551</td>\n",
       "      <td>0.306730</td>\n",
       "      <td>0.000000</td>\n",
       "      <td>0.250772</td>\n",
       "    </tr>\n",
       "    <tr>\n",
       "      <th>3</th>\n",
       "      <td>0.000000</td>\n",
       "      <td>0.000000</td>\n",
       "      <td>0.000000</td>\n",
       "      <td>0.569144</td>\n",
       "      <td>0.000000</td>\n",
       "      <td>0.569144</td>\n",
       "      <td>0.000000</td>\n",
       "      <td>0.363277</td>\n",
       "      <td>0.000000</td>\n",
       "      <td>0.363277</td>\n",
       "      <td>0.000000</td>\n",
       "      <td>0.297003</td>\n",
       "    </tr>\n",
       "  </tbody>\n",
       "</table>\n",
       "</div>"
      ],
      "text/plain": [
       "       arun   cricket     dance    deepak  football   kabaddi      like  \\\n",
       "0  0.000000  0.479038  0.000000  0.000000  0.000000  0.000000  0.000000   \n",
       "1  0.463458  0.000000  0.587838  0.000000  0.000000  0.000000  0.587838   \n",
       "2  0.378872  0.378872  0.000000  0.000000  0.480551  0.000000  0.000000   \n",
       "3  0.000000  0.000000  0.000000  0.569144  0.000000  0.569144  0.000000   \n",
       "\n",
       "      likes        or      play    rakesh        to  \n",
       "0  0.387823  0.000000  0.387823  0.607599  0.317070  \n",
       "1  0.000000  0.000000  0.000000  0.000000  0.306758  \n",
       "2  0.306730  0.480551  0.306730  0.000000  0.250772  \n",
       "3  0.363277  0.000000  0.363277  0.000000  0.297003  "
      ]
     },
     "execution_count": 18,
     "metadata": {},
     "output_type": "execute_result"
    }
   ],
   "source": [
    "tf=TfidfVectorizer()\n",
    "\n",
    "bag_tf=tf.fit_transform(msg).toarray()\n",
    "data=pd.DataFrame(bag_tf,columns=tf.get_feature_names_out())\n",
    "data"
   ]
  },
  {
   "cell_type": "markdown",
   "id": "2434a7e0-af2e-4a1f-980d-948c0e164b3c",
   "metadata": {},
   "source": [
    "## Word2Vec"
   ]
  },
  {
   "cell_type": "code",
   "execution_count": 35,
   "id": "fc89509a-a6ab-4648-bd7a-5a434d3da64f",
   "metadata": {},
   "outputs": [],
   "source": [
    "from gensim.models import Word2Vec"
   ]
  },
  {
   "cell_type": "code",
   "execution_count": 36,
   "id": "f2d2058f-b222-45ed-948e-27c6bce2bdaa",
   "metadata": {},
   "outputs": [
    {
     "data": {
      "text/plain": [
       "'With Bag of Words and TF-IDF text vectorization techniques we did not get semantic meaning of words But for most of the applications of NLP tasks like sentiment classification, sarcasm detection etc require semantic meaning of a word and semantic relationships of a word with other words.\\n'"
      ]
     },
     "execution_count": 36,
     "metadata": {},
     "output_type": "execute_result"
    }
   ],
   "source": [
    "with open(\"Resources/word2vec.txt\") as f:\n",
    "    text=f.readlines()\n",
    "text[0]"
   ]
  },
  {
   "cell_type": "code",
   "execution_count": 37,
   "id": "18884327-378d-4378-8f00-be96bf8b79a8",
   "metadata": {},
   "outputs": [],
   "source": [
    "import re\n",
    "from nltk.tokenize import word_tokenize"
   ]
  },
  {
   "cell_type": "code",
   "execution_count": 38,
   "id": "349f33f6-abb6-4460-9d09-9b6415c10b82",
   "metadata": {},
   "outputs": [
    {
     "data": {
      "text/plain": [
       "'With Bag of Words and TF IDF text vectorization techniques we did not get semantic meaning of words But for most of the applications of NLP tasks like sentiment classification  sarcasm detection etc require semantic meaning of a word and semantic relationships of a word with other words  '"
      ]
     },
     "execution_count": 38,
     "metadata": {},
     "output_type": "execute_result"
    }
   ],
   "source": [
    "for i in range(len(text)):\n",
    "    text[i]=re.sub('[^a-zA-Z]',' ',text[i])\n",
    "text[0]\n",
    "    "
   ]
  },
  {
   "cell_type": "code",
   "execution_count": 39,
   "id": "7093376d-099f-4e87-9f5a-683970c9d763",
   "metadata": {},
   "outputs": [
    {
     "data": {
      "text/plain": [
       "['With',\n",
       " 'Bag',\n",
       " 'of',\n",
       " 'Words',\n",
       " 'and',\n",
       " 'TF',\n",
       " 'IDF',\n",
       " 'text',\n",
       " 'vectorization',\n",
       " 'techniques',\n",
       " 'we',\n",
       " 'did',\n",
       " 'not',\n",
       " 'get',\n",
       " 'semantic',\n",
       " 'meaning',\n",
       " 'of',\n",
       " 'words',\n",
       " 'But',\n",
       " 'for',\n",
       " 'most',\n",
       " 'of',\n",
       " 'the',\n",
       " 'applications',\n",
       " 'of',\n",
       " 'NLP',\n",
       " 'tasks',\n",
       " 'like',\n",
       " 'sentiment',\n",
       " 'classification',\n",
       " 'sarcasm',\n",
       " 'detection',\n",
       " 'etc',\n",
       " 'require',\n",
       " 'semantic',\n",
       " 'meaning',\n",
       " 'of',\n",
       " 'a',\n",
       " 'word',\n",
       " 'and',\n",
       " 'semantic',\n",
       " 'relationships',\n",
       " 'of',\n",
       " 'a',\n",
       " 'word',\n",
       " 'with',\n",
       " 'other',\n",
       " 'words']"
      ]
     },
     "execution_count": 39,
     "metadata": {},
     "output_type": "execute_result"
    }
   ],
   "source": [
    "tokens=[]\n",
    "for i in text:\n",
    "    tokens.append(word_tokenize(i))\n",
    "tokens[0]"
   ]
  },
  {
   "cell_type": "code",
   "execution_count": 41,
   "id": "0383b62b-fccf-4838-8154-9baa5b66b6de",
   "metadata": {},
   "outputs": [],
   "source": [
    "model=Word2Vec(sentences=tokens, min_count=2, vector_size=2)\n"
   ]
  },
  {
   "cell_type": "code",
   "execution_count": 42,
   "id": "71937d48-4fbc-454a-8d1f-ad2dde22462f",
   "metadata": {},
   "outputs": [
    {
     "data": {
      "text/plain": [
       "['of',\n",
       " 'and',\n",
       " 'words',\n",
       " 'a',\n",
       " 'vector',\n",
       " 'the',\n",
       " 'word',\n",
       " 'space',\n",
       " 'Word',\n",
       " 'in',\n",
       " 'semantic',\n",
       " 'context',\n",
       " 'method',\n",
       " 'gram',\n",
       " 'to',\n",
       " 'vec',\n",
       " 'skip',\n",
       " 'as',\n",
       " 'are',\n",
       " 'we',\n",
       " 'meaning',\n",
       " 'for',\n",
       " 'most',\n",
       " 'center',\n",
       " 'be',\n",
       " 'input',\n",
       " 'relationships',\n",
       " 'with',\n",
       " 'other',\n",
       " 'corpus',\n",
       " 'embeddings',\n",
       " 'well',\n",
       " 'size',\n",
       " 'is']"
      ]
     },
     "execution_count": 42,
     "metadata": {},
     "output_type": "execute_result"
    }
   ],
   "source": [
    "words=model.wv.index_to_key\n",
    "words"
   ]
  },
  {
   "cell_type": "code",
   "execution_count": 44,
   "id": "47d005c1-20a7-4dd1-bc3e-012bdc0df1e7",
   "metadata": {},
   "outputs": [
    {
     "name": "stdout",
     "output_type": "stream",
     "text": [
      "Total words: 34\n"
     ]
    },
    {
     "data": {
      "text/plain": [
       "array([0.255022, 0.450747], dtype=float32)"
      ]
     },
     "execution_count": 44,
     "metadata": {},
     "output_type": "execute_result"
    }
   ],
   "source": [
    "print(\"Total words:\", len(words))\n",
    "model.wv.__getitem__('and')"
   ]
  },
  {
   "cell_type": "code",
   "execution_count": null,
   "id": "6881276a-6647-4972-8dc9-e8a14eb0f00d",
   "metadata": {},
   "outputs": [],
   "source": []
  }
 ],
 "metadata": {
  "kernelspec": {
   "display_name": "Python 3 (ipykernel)",
   "language": "python",
   "name": "python3"
  },
  "language_info": {
   "codemirror_mode": {
    "name": "ipython",
    "version": 3
   },
   "file_extension": ".py",
   "mimetype": "text/x-python",
   "name": "python",
   "nbconvert_exporter": "python",
   "pygments_lexer": "ipython3",
   "version": "3.11.8"
  }
 },
 "nbformat": 4,
 "nbformat_minor": 5
}

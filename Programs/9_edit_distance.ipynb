{
 "cells": [
  {
   "cell_type": "markdown",
   "id": "ab906791-54d1-4e37-9738-5de7fff3739c",
   "metadata": {},
   "source": [
    "## Using build in"
   ]
  },
  {
   "cell_type": "code",
   "execution_count": 4,
   "id": "f9843a64-1926-4a76-9391-9177d75a5c6f",
   "metadata": {},
   "outputs": [
    {
     "data": {
      "text/plain": [
       "6"
      ]
     },
     "execution_count": 4,
     "metadata": {},
     "output_type": "execute_result"
    }
   ],
   "source": [
    "import editdistance\n",
    "\n",
    "editdistance.eval('Chirag','Chiranjeevi')"
   ]
  },
  {
   "cell_type": "markdown",
   "id": "784233ce-a38b-4a84-8a76-1b8a42aa38de",
   "metadata": {},
   "source": [
    "## User defined"
   ]
  },
  {
   "cell_type": "code",
   "execution_count": 5,
   "id": "abf0ef1e-1cb1-4bc7-a8ec-88e37549c5a8",
   "metadata": {},
   "outputs": [],
   "source": [
    "def distance(str1,str2,m,n):\n",
    "    string_matrix=[[0 for i in range(n+1)] for i in range(m+1)]\n",
    "    for i in range(m+1):\n",
    "        for j in range(n+1):\n",
    "            if i==0:\n",
    "                string_matrix[i][j]=j\n",
    "            elif j==0:\n",
    "                string_matrix[i][j]=i\n",
    "            elif str1[i-1]==str2[j-1]:\n",
    "                string_matrix[i][j]=string_matrix[i-1][j-1]\n",
    "            else:\n",
    "                string_matrix[i][j]=1+min(string_matrix[i-1][j],string_matrix[i][j-1],string_matrix[i-1][j-1])\n",
    "    return string_matrix[m][n]"
   ]
  },
  {
   "cell_type": "code",
   "execution_count": 10,
   "id": "158a9434-1b47-49c0-bca6-ccb2e9892729",
   "metadata": {},
   "outputs": [
    {
     "name": "stdout",
     "output_type": "stream",
     "text": [
      "The minimum edit distance is : 5\n",
      "Using built in: 5\n"
     ]
    }
   ],
   "source": [
    "if __name__==\"__main__\":\n",
    "    str1=\"intention\"\n",
    "    str2=\"execution\"\n",
    "    print(\"The minimum edit distance is :\", distance(str1,str2,len(str1),len(str2)))\n",
    "    print(\"Using built in:\",editdistance.eval(str1,str2))"
   ]
  },
  {
   "cell_type": "code",
   "execution_count": null,
   "id": "80397e7b-f819-40e7-83dc-cdb294f3a913",
   "metadata": {},
   "outputs": [],
   "source": []
  }
 ],
 "metadata": {
  "kernelspec": {
   "display_name": "Python 3 (ipykernel)",
   "language": "python",
   "name": "python3"
  },
  "language_info": {
   "codemirror_mode": {
    "name": "ipython",
    "version": 3
   },
   "file_extension": ".py",
   "mimetype": "text/x-python",
   "name": "python",
   "nbconvert_exporter": "python",
   "pygments_lexer": "ipython3",
   "version": "3.11.8"
  }
 },
 "nbformat": 4,
 "nbformat_minor": 5
}

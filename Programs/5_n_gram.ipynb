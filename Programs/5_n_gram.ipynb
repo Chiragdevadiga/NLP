{
 "cells": [
  {
   "cell_type": "code",
   "execution_count": 1,
   "id": "f0c0451b-90db-4ca3-b21f-0dc649cbb491",
   "metadata": {},
   "outputs": [],
   "source": [
    "# Generate n-gram representation of the corpus.\n",
    "# Generate n-gram representation for the given corpus and perform following operation on the corpus.\n",
    "\n",
    "# Preprocessing the corpus for n-gram representation\n",
    "# Display all tokens, distinct tokens and frequency of tokens in the corpus.\n",
    "# Bi-Gram and frequency represenation using user defined functions.\n",
    "# Tri-Gram and frequency representation using user defined functions."
   ]
  },
  {
   "cell_type": "code",
   "execution_count": 13,
   "id": "e1e650dc-479a-4164-8b4b-a405a6b82707",
   "metadata": {},
   "outputs": [
    {
     "data": {
      "text/plain": [
       "'The Arabian knights.These are the fairy tales of the east.The stories of the Arabian knights are translated in many languages'"
      ]
     },
     "execution_count": 13,
     "metadata": {},
     "output_type": "execute_result"
    }
   ],
   "source": [
    "with open (\"Resources/NGRAM.txt\") as f:\n",
    "    text=f.readline()\n",
    "text"
   ]
  },
  {
   "cell_type": "markdown",
   "id": "133dd0f5-7447-4a51-a8af-3dca136118e2",
   "metadata": {},
   "source": [
    "## Pre processing"
   ]
  },
  {
   "cell_type": "code",
   "execution_count": 14,
   "id": "16bedc93-c579-4ec6-8847-7a7b819a43d9",
   "metadata": {},
   "outputs": [
    {
     "name": "stdout",
     "output_type": "stream",
     "text": [
      " Processed corpus: eos the arabian knights eos these are the fairy tales of the east eos the stories of the arabian knights are translated in many languages\n"
     ]
    }
   ],
   "source": [
    "text=text.lower()\n",
    "\n",
    "text=\"eos \"+text;\n",
    "\n",
    "text=text.replace(\".\",\" eos \")\n",
    "\n",
    "print(\" Processed corpus:\",text)"
   ]
  },
  {
   "cell_type": "markdown",
   "id": "b310c631-96c5-46fd-802d-81dc22b71207",
   "metadata": {},
   "source": [
    "## Tokens"
   ]
  },
  {
   "cell_type": "code",
   "execution_count": 16,
   "id": "2a9c0dca-9f09-467f-90ca-e574edf7cf2a",
   "metadata": {},
   "outputs": [
    {
     "name": "stdout",
     "output_type": "stream",
     "text": [
      "Total tokens: ['eos', 'the', 'arabian', 'knights', 'eos', 'these', 'are', 'the', 'fairy', 'tales', 'of', 'the', 'east', 'eos', 'the', 'stories', 'of', 'the', 'arabian', 'knights', 'are', 'translated', 'in', 'many', 'languages']\n",
      "Unique tokens: {'the', 'fairy', 'many', 'eos', 'arabian', 'translated', 'east', 'knights', 'these', 'stories', 'are', 'languages', 'in', 'of', 'tales'}\n"
     ]
    }
   ],
   "source": [
    "import nltk\n",
    "\n",
    "from nltk.tokenize import word_tokenize\n",
    "\n",
    "tokens=word_tokenize(text)\n",
    "\n",
    "print(\"Total tokens:\", tokens)\n",
    "print(\"Unique tokens:\", set(tokens))"
   ]
  },
  {
   "cell_type": "markdown",
   "id": "ffcaec86-fb27-451c-a907-3571239ba517",
   "metadata": {},
   "source": [
    "## Frequency"
   ]
  },
  {
   "cell_type": "code",
   "execution_count": 17,
   "id": "2c1fe99a-12ee-4423-b7c4-88298acd3b5f",
   "metadata": {},
   "outputs": [
    {
     "name": "stdout",
     "output_type": "stream",
     "text": [
      "{'eos': 3, 'the': 5, 'arabian': 2, 'knights': 2, 'these': 1, 'are': 2, 'fairy': 1, 'tales': 1, 'of': 2, 'east': 1, 'stories': 1, 'translated': 1, 'in': 1, 'many': 1, 'languages': 1}\n"
     ]
    }
   ],
   "source": [
    "dct={}\n",
    "\n",
    "for i in tokens:\n",
    "    dct[i]=0\n",
    "\n",
    "for i in tokens:\n",
    "    dct[i]+=1\n",
    "\n",
    "print(dct)"
   ]
  },
  {
   "cell_type": "markdown",
   "id": "7e0b8d91-7729-4211-9de3-69bb3e5f949f",
   "metadata": {},
   "source": [
    "## n gram"
   ]
  },
  {
   "cell_type": "code",
   "execution_count": 48,
   "id": "7221c730-482c-4d52-a16d-d78f4aa32249",
   "metadata": {},
   "outputs": [],
   "source": [
    "def ngramm(k):\n",
    "    ls=[]\n",
    "    for i in range(len(tokens)):\n",
    "        ls.append(tokens[i:i+k])\n",
    "   \n",
    "    ls=ls[:-1]\n",
    "\n",
    "\n",
    "    dct={}\n",
    "\n",
    "    ls=[\" \".join(i) for i in ls]\n",
    "    \n",
    "    for i in ls:\n",
    "        dct[i]=0\n",
    "\n",
    "    for i in ls:\n",
    "        dct[i]+=1\n",
    "    return dct"
   ]
  },
  {
   "cell_type": "code",
   "execution_count": 49,
   "id": "2de71c0b-1dac-4d98-88a6-e93d0e70ff59",
   "metadata": {},
   "outputs": [
    {
     "name": "stdout",
     "output_type": "stream",
     "text": [
      "{'eos the': 2, 'the arabian': 2, 'arabian knights': 2, 'knights eos': 1, 'eos these': 1, 'these are': 1, 'are the': 1, 'the fairy': 1, 'fairy tales': 1, 'tales of': 1, 'of the': 2, 'the east': 1, 'east eos': 1, 'the stories': 1, 'stories of': 1, 'knights are': 1, 'are translated': 1, 'translated in': 1, 'in many': 1, 'many languages': 1}\n"
     ]
    }
   ],
   "source": [
    "print(ngram(2))"
   ]
  },
  {
   "cell_type": "code",
   "execution_count": 52,
   "id": "55c55775-648f-433b-8b78-d89803d60fa1",
   "metadata": {},
   "outputs": [
    {
     "name": "stdout",
     "output_type": "stream",
     "text": [
      "{'eos the': 2, 'the arabian': 2, 'arabian knights': 2, 'knights eos': 1, 'eos these': 1, 'these are': 1, 'are the': 1, 'the fairy': 1, 'fairy tales': 1, 'tales of': 1, 'of the': 2, 'the east': 1, 'east eos': 1, 'the stories': 1, 'stories of': 1, 'knights are': 1, 'are translated': 1, 'translated in': 1, 'in many': 1, 'many languages': 1}\n"
     ]
    }
   ],
   "source": [
    "print(ngramm(2))"
   ]
  },
  {
   "cell_type": "code",
   "execution_count": null,
   "id": "fc77d26f-4413-40b4-9dd5-622be8851d87",
   "metadata": {},
   "outputs": [],
   "source": []
  }
 ],
 "metadata": {
  "kernelspec": {
   "display_name": "Python 3 (ipykernel)",
   "language": "python",
   "name": "python3"
  },
  "language_info": {
   "codemirror_mode": {
    "name": "ipython",
    "version": 3
   },
   "file_extension": ".py",
   "mimetype": "text/x-python",
   "name": "python",
   "nbconvert_exporter": "python",
   "pygments_lexer": "ipython3",
   "version": "3.11.8"
  }
 },
 "nbformat": 4,
 "nbformat_minor": 5
}
